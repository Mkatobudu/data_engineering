{
 "cells": [
  {
   "cell_type": "code",
   "execution_count": 1,
   "id": "5f2f61d8-4696-4241-ab3e-34a0d44a9449",
   "metadata": {},
   "outputs": [],
   "source": [
    "from pyspark.sql import SparkSession\n",
    "import pandas as pd"
   ]
  },
  {
   "cell_type": "code",
   "execution_count": 2,
   "id": "c31067ed-d1b6-49af-966a-cb27fa09c5ca",
   "metadata": {},
   "outputs": [
    {
     "name": "stdout",
     "output_type": "stream",
     "text": [
      "24/04/05 04:24:45 WARN Utils: Your hostname, ahona-ThinkPad-X270-W10DG resolves to a loopback address: 127.0.1.1; using 192.168.43.6 instead (on interface wlp3s0)\n",
      "24/04/05 04:24:45 WARN Utils: Set SPARK_LOCAL_IP if you need to bind to another address\n"
     ]
    },
    {
     "name": "stderr",
     "output_type": "stream",
     "text": [
      "Setting default log level to \"WARN\".\n",
      "To adjust logging level use sc.setLogLevel(newLevel). For SparkR, use setLogLevel(newLevel).\n"
     ]
    },
    {
     "name": "stdout",
     "output_type": "stream",
     "text": [
      "24/04/05 04:24:45 WARN NativeCodeLoader: Unable to load native-hadoop library for your platform... using builtin-java classes where applicable\n"
     ]
    }
   ],
   "source": [
    "spark = SparkSession.builder \\\n",
    "       .master(\"local[*]\") \\\n",
    "       .appName(\"test\") \\\n",
    "       .getOrCreate()"
   ]
  },
  {
   "cell_type": "code",
   "execution_count": 3,
   "id": "2e1c43b2-46b8-4e13-bec1-c19b10ef23c6",
   "metadata": {},
   "outputs": [
    {
     "name": "stderr",
     "output_type": "stream",
     "text": [
      "                                                                                \r"
     ]
    }
   ],
   "source": [
    "df = spark.read.options(header='true', inferSchema='true').csv('fhv_tripdata_2021-01.csv')"
   ]
  },
  {
   "cell_type": "code",
   "execution_count": 4,
   "id": "52b0be44-a2f5-4455-bcf4-7865d40e42b1",
   "metadata": {},
   "outputs": [
    {
     "name": "stdout",
     "output_type": "stream",
     "text": [
      "+--------------------+-------------------+-------------------+------------+------------+-------+----------------------+\n",
      "|dispatching_base_num|    pickup_datetime|   dropoff_datetime|PULocationID|DOLocationID|SR_Flag|Affiliated_base_number|\n",
      "+--------------------+-------------------+-------------------+------------+------------+-------+----------------------+\n",
      "|              B00009|2021-01-01 00:27:00|2021-01-01 00:44:00|        null|        null|   null|                B00009|\n",
      "|              B00009|2021-01-01 00:50:00|2021-01-01 01:07:00|        null|        null|   null|                B00009|\n",
      "|              B00013|2021-01-01 00:01:00|2021-01-01 01:51:00|        null|        null|   null|                B00013|\n",
      "|              B00037|2021-01-01 00:13:09|2021-01-01 00:21:26|        null|          72|   null|                B00037|\n",
      "|              B00037|2021-01-01 00:38:31|2021-01-01 00:53:44|        null|          61|   null|                B00037|\n",
      "|              B00037|2021-01-01 00:59:02|2021-01-01 01:08:05|        null|          71|   null|                B00037|\n",
      "|              B00037|2021-01-01 00:18:12|2021-01-01 00:30:04|        null|          91|   null|                B00037|\n",
      "|              B00037|2021-01-01 00:36:15|2021-01-01 00:45:08|        null|          39|   null|                B00037|\n",
      "|              B00037|2021-01-01 00:55:04|2021-01-01 01:13:02|        null|          37|   null|                B00037|\n",
      "|              B00037|2021-01-01 00:48:40|2021-01-01 01:12:02|        null|          39|   null|                B00037|\n",
      "|              B00037|2021-01-01 00:27:23|2021-01-01 00:29:25|        null|          72|   null|                B00037|\n",
      "|              B00037|2021-01-01 00:39:07|2021-01-01 00:43:26|        null|          72|   null|                B00037|\n",
      "|              B00037|2021-01-01 00:55:57|2021-01-01 01:10:08|        null|          89|   null|                B00037|\n",
      "|              B00095|2021-01-01 00:17:54|2021-01-01 00:20:57|        null|         177|   null|                B00095|\n",
      "|              B00095|2021-01-01 00:31:59|2021-01-01 00:42:41|        null|         225|   null|                B00095|\n",
      "|              B00095|2021-01-01 00:46:23|2021-01-01 00:57:33|        null|          63|   null|                B00095|\n",
      "|              B00111|2021-01-01 00:40:00|2021-01-01 01:41:00|        null|        null|   null|                B03234|\n",
      "|              B00112|2021-01-01 00:21:10|2021-01-01 00:42:42|        null|          67|   null|                B00112|\n",
      "|              B00112|2021-01-01 00:53:10|2021-01-01 01:03:24|        null|          22|   null|                B00112|\n",
      "|              B00112|2021-01-01 00:28:12|2021-01-01 00:28:18|        null|          14|   null|                B00112|\n",
      "+--------------------+-------------------+-------------------+------------+------------+-------+----------------------+\n",
      "only showing top 20 rows\n",
      "\n"
     ]
    }
   ],
   "source": [
    "df.show()"
   ]
  },
  {
   "cell_type": "code",
   "execution_count": 5,
   "id": "199323eb-f13a-4489-9947-da1662d1144e",
   "metadata": {
    "scrolled": true
   },
   "outputs": [
    {
     "name": "stdout",
     "output_type": "stream",
     "text": [
      "root\n",
      " |-- dispatching_base_num: string (nullable = true)\n",
      " |-- pickup_datetime: timestamp (nullable = true)\n",
      " |-- dropoff_datetime: timestamp (nullable = true)\n",
      " |-- PULocationID: integer (nullable = true)\n",
      " |-- DOLocationID: integer (nullable = true)\n",
      " |-- SR_Flag: string (nullable = true)\n",
      " |-- Affiliated_base_number: string (nullable = true)\n",
      "\n"
     ]
    }
   ],
   "source": [
    "df.printSchema()"
   ]
  },
  {
   "cell_type": "code",
   "execution_count": 11,
   "id": "a8c316d1-00d0-4afe-8059-a2cb815d0461",
   "metadata": {},
   "outputs": [],
   "source": [
    "from pyspark.sql import types"
   ]
  },
  {
   "cell_type": "code",
   "execution_count": 12,
   "id": "2e068b85-2093-401a-a205-804f9bb1d82c",
   "metadata": {},
   "outputs": [],
   "source": [
    "schema = types.StructType([ \n",
    "   types.StructField('dispatching_base_num', types.StringType(), True), \n",
    "   types.StructField('pickup_datetime', types.TimestampType(), True), \n",
    "   types.StructField('dropoff_datetime', types.TimestampType(), True),\n",
    "   types.StructField('PULocationID', types.IntegerType(), True), \n",
    "   types.StructField('DOLocationID', types.IntegerType(), True), \n",
    "   types.StructField('SR_Flag', types.StringType(), True), \n",
    "   types.StructField('Affiliated_base_number', types.StringType(), True)\n",
    " ])\n"
   ]
  },
  {
   "cell_type": "code",
   "execution_count": 13,
   "id": "210e122f-53c1-442e-8923-5d06f05778a9",
   "metadata": {},
   "outputs": [],
   "source": [
    "df = spark.read.option('header','true').schema(schema).csv('fhv_tripdata_2021-01.csv')"
   ]
  },
  {
   "cell_type": "code",
   "execution_count": 14,
   "id": "6a0734b8-fc23-44b1-a27b-48d07b5cee00",
   "metadata": {},
   "outputs": [
    {
     "name": "stdout",
     "output_type": "stream",
     "text": [
      "+--------------------+-------------------+-------------------+------------+------------+-------+----------------------+\n",
      "|dispatching_base_num|    pickup_datetime|   dropoff_datetime|PULocationID|DOLocationID|SR_Flag|Affiliated_base_number|\n",
      "+--------------------+-------------------+-------------------+------------+------------+-------+----------------------+\n",
      "|              B00009|2021-01-01 00:27:00|2021-01-01 00:44:00|        null|        null|   null|                B00009|\n",
      "|              B00009|2021-01-01 00:50:00|2021-01-01 01:07:00|        null|        null|   null|                B00009|\n",
      "|              B00013|2021-01-01 00:01:00|2021-01-01 01:51:00|        null|        null|   null|                B00013|\n",
      "|              B00037|2021-01-01 00:13:09|2021-01-01 00:21:26|        null|          72|   null|                B00037|\n",
      "|              B00037|2021-01-01 00:38:31|2021-01-01 00:53:44|        null|          61|   null|                B00037|\n",
      "|              B00037|2021-01-01 00:59:02|2021-01-01 01:08:05|        null|          71|   null|                B00037|\n",
      "|              B00037|2021-01-01 00:18:12|2021-01-01 00:30:04|        null|          91|   null|                B00037|\n",
      "|              B00037|2021-01-01 00:36:15|2021-01-01 00:45:08|        null|          39|   null|                B00037|\n",
      "|              B00037|2021-01-01 00:55:04|2021-01-01 01:13:02|        null|          37|   null|                B00037|\n",
      "|              B00037|2021-01-01 00:48:40|2021-01-01 01:12:02|        null|          39|   null|                B00037|\n",
      "|              B00037|2021-01-01 00:27:23|2021-01-01 00:29:25|        null|          72|   null|                B00037|\n",
      "|              B00037|2021-01-01 00:39:07|2021-01-01 00:43:26|        null|          72|   null|                B00037|\n",
      "|              B00037|2021-01-01 00:55:57|2021-01-01 01:10:08|        null|          89|   null|                B00037|\n",
      "|              B00095|2021-01-01 00:17:54|2021-01-01 00:20:57|        null|         177|   null|                B00095|\n",
      "|              B00095|2021-01-01 00:31:59|2021-01-01 00:42:41|        null|         225|   null|                B00095|\n",
      "|              B00095|2021-01-01 00:46:23|2021-01-01 00:57:33|        null|          63|   null|                B00095|\n",
      "|              B00111|2021-01-01 00:40:00|2021-01-01 01:41:00|        null|        null|   null|                B03234|\n",
      "|              B00112|2021-01-01 00:21:10|2021-01-01 00:42:42|        null|          67|   null|                B00112|\n",
      "|              B00112|2021-01-01 00:53:10|2021-01-01 01:03:24|        null|          22|   null|                B00112|\n",
      "|              B00112|2021-01-01 00:28:12|2021-01-01 00:28:18|        null|          14|   null|                B00112|\n",
      "+--------------------+-------------------+-------------------+------------+------------+-------+----------------------+\n",
      "only showing top 20 rows\n",
      "\n"
     ]
    }
   ],
   "source": [
    "df.show()"
   ]
  },
  {
   "cell_type": "code",
   "execution_count": 15,
   "id": "fcee05b0-d4b2-473b-8442-db43c971466d",
   "metadata": {},
   "outputs": [
    {
     "name": "stdout",
     "output_type": "stream",
     "text": [
      "root\n",
      " |-- dispatching_base_num: string (nullable = true)\n",
      " |-- pickup_datetime: timestamp (nullable = true)\n",
      " |-- dropoff_datetime: timestamp (nullable = true)\n",
      " |-- PULocationID: integer (nullable = true)\n",
      " |-- DOLocationID: integer (nullable = true)\n",
      " |-- SR_Flag: string (nullable = true)\n",
      " |-- Affiliated_base_number: string (nullable = true)\n",
      "\n"
     ]
    }
   ],
   "source": [
    "df.printSchema()"
   ]
  },
  {
   "cell_type": "code",
   "execution_count": 16,
   "id": "bf500129-e9a3-4e88-85ab-4f545d9455b7",
   "metadata": {},
   "outputs": [
    {
     "data": {
      "text/plain": [
       "[Row(dispatching_base_num='B00009', pickup_datetime=datetime.datetime(2021, 1, 1, 0, 27), dropoff_datetime=datetime.datetime(2021, 1, 1, 0, 44), PULocationID=None, DOLocationID=None, SR_Flag=None, Affiliated_base_number='B00009'),\n",
       " Row(dispatching_base_num='B00009', pickup_datetime=datetime.datetime(2021, 1, 1, 0, 50), dropoff_datetime=datetime.datetime(2021, 1, 1, 1, 7), PULocationID=None, DOLocationID=None, SR_Flag=None, Affiliated_base_number='B00009'),\n",
       " Row(dispatching_base_num='B00013', pickup_datetime=datetime.datetime(2021, 1, 1, 0, 1), dropoff_datetime=datetime.datetime(2021, 1, 1, 1, 51), PULocationID=None, DOLocationID=None, SR_Flag=None, Affiliated_base_number='B00013'),\n",
       " Row(dispatching_base_num='B00037', pickup_datetime=datetime.datetime(2021, 1, 1, 0, 13, 9), dropoff_datetime=datetime.datetime(2021, 1, 1, 0, 21, 26), PULocationID=None, DOLocationID=72, SR_Flag=None, Affiliated_base_number='B00037'),\n",
       " Row(dispatching_base_num='B00037', pickup_datetime=datetime.datetime(2021, 1, 1, 0, 38, 31), dropoff_datetime=datetime.datetime(2021, 1, 1, 0, 53, 44), PULocationID=None, DOLocationID=61, SR_Flag=None, Affiliated_base_number='B00037'),\n",
       " Row(dispatching_base_num='B00037', pickup_datetime=datetime.datetime(2021, 1, 1, 0, 59, 2), dropoff_datetime=datetime.datetime(2021, 1, 1, 1, 8, 5), PULocationID=None, DOLocationID=71, SR_Flag=None, Affiliated_base_number='B00037'),\n",
       " Row(dispatching_base_num='B00037', pickup_datetime=datetime.datetime(2021, 1, 1, 0, 18, 12), dropoff_datetime=datetime.datetime(2021, 1, 1, 0, 30, 4), PULocationID=None, DOLocationID=91, SR_Flag=None, Affiliated_base_number='B00037'),\n",
       " Row(dispatching_base_num='B00037', pickup_datetime=datetime.datetime(2021, 1, 1, 0, 36, 15), dropoff_datetime=datetime.datetime(2021, 1, 1, 0, 45, 8), PULocationID=None, DOLocationID=39, SR_Flag=None, Affiliated_base_number='B00037'),\n",
       " Row(dispatching_base_num='B00037', pickup_datetime=datetime.datetime(2021, 1, 1, 0, 55, 4), dropoff_datetime=datetime.datetime(2021, 1, 1, 1, 13, 2), PULocationID=None, DOLocationID=37, SR_Flag=None, Affiliated_base_number='B00037'),\n",
       " Row(dispatching_base_num='B00037', pickup_datetime=datetime.datetime(2021, 1, 1, 0, 48, 40), dropoff_datetime=datetime.datetime(2021, 1, 1, 1, 12, 2), PULocationID=None, DOLocationID=39, SR_Flag=None, Affiliated_base_number='B00037')]"
      ]
     },
     "execution_count": 16,
     "metadata": {},
     "output_type": "execute_result"
    }
   ],
   "source": [
    "df.head(10)"
   ]
  },
  {
   "cell_type": "code",
   "execution_count": 18,
   "id": "a4522eb1-0f46-47bc-80d9-29702341ef1e",
   "metadata": {},
   "outputs": [],
   "source": [
    "df = df.repartition(24)"
   ]
  },
  {
   "cell_type": "code",
   "execution_count": 22,
   "id": "592182eb-7d37-40e5-99e4-6117cfe5bcd5",
   "metadata": {},
   "outputs": [
    {
     "name": "stderr",
     "output_type": "stream",
     "text": [
      "                                                                                \r"
     ]
    }
   ],
   "source": [
    "df.write.parquet('fhhv/2021/01', mode='overwrite')"
   ]
  },
  {
   "cell_type": "code",
   "execution_count": 20,
   "id": "f0e00050-60b3-45cf-a824-626f1fdea0fc",
   "metadata": {},
   "outputs": [
    {
     "name": "stdout",
     "output_type": "stream",
     "text": [
      "Dockerfile\t\t  head.csv\t\t  test_spark.ipynb\n",
      "fhhv\t\t\t  ingest_data_pyspark.py  venv\n",
      "fhv_tripdata_2021-01.csv  taxi_zone_lookup.csv\t  yellow_data\n",
      "green_data\t\t  test_01.ipynb\t\t  zones\n"
     ]
    }
   ],
   "source": [
    "!ls"
   ]
  },
  {
   "cell_type": "code",
   "execution_count": 25,
   "id": "c0c31b6e-ba58-4a86-9a5d-0f4a549e2eff",
   "metadata": {},
   "outputs": [],
   "source": [
    "df = spark.read.parquet('fhhv/2021/01')"
   ]
  },
  {
   "cell_type": "code",
   "execution_count": 27,
   "id": "57b95402-e4f1-4ef2-80e1-ac4c2d99ff12",
   "metadata": {},
   "outputs": [
    {
     "name": "stdout",
     "output_type": "stream",
     "text": [
      "root\n",
      " |-- dispatching_base_num: string (nullable = true)\n",
      " |-- pickup_datetime: timestamp (nullable = true)\n",
      " |-- dropoff_datetime: timestamp (nullable = true)\n",
      " |-- PULocationID: integer (nullable = true)\n",
      " |-- DOLocationID: integer (nullable = true)\n",
      " |-- SR_Flag: string (nullable = true)\n",
      " |-- Affiliated_base_number: string (nullable = true)\n",
      "\n"
     ]
    }
   ],
   "source": [
    "df.printSchema()"
   ]
  },
  {
   "cell_type": "code",
   "execution_count": 32,
   "id": "1304c659-6cce-4a59-a314-4271af3afc07",
   "metadata": {},
   "outputs": [
    {
     "name": "stdout",
     "output_type": "stream",
     "text": [
      "+-------------------+-------------------+------------+------------+\n",
      "|    pickup_datetime|   dropoff_datetime|PULocationID|DOLocationID|\n",
      "+-------------------+-------------------+------------+------------+\n",
      "|2021-01-09 15:51:50|2021-01-09 16:16:17|        null|         188|\n",
      "|2021-01-07 14:59:13|2021-01-07 15:28:14|        null|          61|\n",
      "|2021-01-08 13:40:01|2021-01-08 13:54:08|        null|         188|\n",
      "|2021-01-07 14:05:05|2021-01-07 14:21:32|        null|          71|\n",
      "|2021-01-09 13:11:50|2021-01-09 13:18:25|        null|          85|\n",
      "|2021-01-07 13:37:17|2021-01-07 14:04:47|        null|          26|\n",
      "|2021-01-03 07:37:03|2021-01-03 07:41:02|        null|         188|\n",
      "|2021-01-01 02:02:09|2021-01-01 02:10:01|        null|          85|\n",
      "|2021-01-09 14:36:38|2021-01-09 14:41:42|        null|          72|\n",
      "|2021-01-04 04:15:00|2021-01-04 04:46:02|        null|         138|\n",
      "|2021-01-07 05:09:07|2021-01-07 05:28:12|        null|          76|\n",
      "|2021-01-08 12:40:45|2021-01-08 12:52:24|        null|         188|\n",
      "|2021-01-03 06:59:35|2021-01-03 07:03:56|        null|         188|\n",
      "|2021-01-03 11:56:45|2021-01-03 11:58:47|        null|          35|\n",
      "|2021-01-09 12:13:52|2021-01-09 12:37:52|        null|         216|\n",
      "|2021-01-02 13:24:47|2021-01-02 13:37:00|        null|          39|\n",
      "|2021-01-03 00:42:48|2021-01-03 00:50:36|        null|          61|\n",
      "|2021-01-02 12:21:27|2021-01-02 12:41:30|        null|          35|\n",
      "|2021-01-06 09:11:38|2021-01-06 09:21:53|        null|          62|\n",
      "|2021-01-01 16:29:38|2021-01-01 16:37:56|        null|          61|\n",
      "+-------------------+-------------------+------------+------------+\n",
      "only showing top 20 rows\n",
      "\n"
     ]
    }
   ],
   "source": [
    "df.select('pickup_datetime','dropoff_datetime','PULocationID','DOLocationID') \\\n",
    "  .filter(df.Affiliated_base_number=='B00037') \\\n",
    "  .show()"
   ]
  },
  {
   "cell_type": "code",
   "execution_count": 33,
   "id": "b057c5b7-f45d-4af4-ac3a-406dd64c1d44",
   "metadata": {},
   "outputs": [],
   "source": [
    "from pyspark.sql import functions as F"
   ]
  },
  {
   "cell_type": "code",
   "execution_count": 36,
   "id": "32d8d839-e18d-4cbc-b3a3-a7478760b5c4",
   "metadata": {},
   "outputs": [
    {
     "name": "stdout",
     "output_type": "stream",
     "text": [
      "+-----------+------------+\n",
      "|pickup_date|dropoff_date|\n",
      "+-----------+------------+\n",
      "| 2021-01-05|  2021-01-05|\n",
      "| 2021-01-04|  2021-01-04|\n",
      "| 2021-01-08|  2021-01-08|\n",
      "| 2021-01-06|  2021-01-06|\n",
      "| 2021-01-02|  2021-01-02|\n",
      "| 2021-01-06|  2021-01-06|\n",
      "| 2021-01-02|  2021-01-02|\n",
      "| 2021-01-04|  2021-01-04|\n",
      "| 2021-01-01|  2021-01-01|\n",
      "| 2021-01-07|  2021-01-07|\n",
      "| 2021-01-06|  2021-01-06|\n",
      "| 2021-01-05|  2021-01-05|\n",
      "| 2021-01-06|  2021-01-06|\n",
      "| 2021-01-01|  2021-01-01|\n",
      "| 2021-01-07|  2021-01-07|\n",
      "| 2021-01-03|  2021-01-03|\n",
      "| 2021-01-02|  2021-01-02|\n",
      "| 2021-01-08|  2021-01-08|\n",
      "| 2021-01-05|  2021-01-05|\n",
      "| 2021-01-03|  2021-01-03|\n",
      "+-----------+------------+\n",
      "only showing top 20 rows\n",
      "\n"
     ]
    }
   ],
   "source": [
    "df \\\n",
    "  .withColumn('pickup_date', F.to_date(df.pickup_datetime)) \\\n",
    "  .withColumn('dropoff_date', F.to_date(df.dropoff_datetime)) \\\n",
    "  .select('pickup_date', 'dropoff_date') \\\n",
    "  .show()"
   ]
  },
  {
   "cell_type": "code",
   "execution_count": null,
   "id": "41434ad9-fa3d-4a3e-8de2-b5002c6f9d9c",
   "metadata": {},
   "outputs": [],
   "source": []
  }
 ],
 "metadata": {
  "kernelspec": {
   "display_name": "Python 3 (ipykernel)",
   "language": "python",
   "name": "python3"
  },
  "language_info": {
   "codemirror_mode": {
    "name": "ipython",
    "version": 3
   },
   "file_extension": ".py",
   "mimetype": "text/x-python",
   "name": "python",
   "nbconvert_exporter": "python",
   "pygments_lexer": "ipython3",
   "version": "3.12.1"
  }
 },
 "nbformat": 4,
 "nbformat_minor": 5
}
