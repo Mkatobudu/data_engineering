{
 "cells": [
  {
   "cell_type": "code",
   "execution_count": 3,
   "id": "a16cdbe0-0e7f-48bd-8be6-d3887702578a",
   "metadata": {},
   "outputs": [],
   "source": [
    "from pyspark.sql import SparkSession\n",
    "from pyspark.conf import SparkConf"
   ]
  },
  {
   "cell_type": "code",
   "execution_count": 4,
   "id": "ebf62608-fd91-4d09-957e-e3578fb579bf",
   "metadata": {},
   "outputs": [
    {
     "name": "stdout",
     "output_type": "stream",
     "text": [
      "--2024-04-01 16:40:57--  https://jdbc.postgresql.org/download/postgresql-42.7.3.jar\n",
      "Resolving jdbc.postgresql.org (jdbc.postgresql.org)... 72.32.157.228, 2001:4800:3e1:1::228\n",
      "Connecting to jdbc.postgresql.org (jdbc.postgresql.org)|72.32.157.228|:443... connected.\n",
      "HTTP request sent, awaiting response... 200 OK\n",
      "Length: 1089312 (1.0M) [application/java-archive]\n",
      "Saving to: ‘postgresql-42.7.3.jar’\n",
      "\n",
      "postgresql-42.7.3.j 100%[===================>]   1.04M   557KB/s    in 1.9s    \n",
      "\n",
      "2024-04-01 16:41:01 (557 KB/s) - ‘postgresql-42.7.3.jar’ saved [1089312/1089312]\n",
      "\n"
     ]
    }
   ],
   "source": [
    "!wget https://jdbc.postgresql.org/download/postgresql-42.7.3.jar"
   ]
  },
  {
   "cell_type": "code",
   "execution_count": 5,
   "id": "fe779a6e-a7a9-4ccf-ab18-177d9396778f",
   "metadata": {},
   "outputs": [
    {
     "data": {
      "text/plain": [
       "<pyspark.conf.SparkConf at 0x7f88e45d36b0>"
      ]
     },
     "execution_count": 5,
     "metadata": {},
     "output_type": "execute_result"
    }
   ],
   "source": [
    "conf = SparkConf()\n",
    "conf.set('spark.jars', 'postgresql-42.7.3.jar' )"
   ]
  },
  {
   "cell_type": "code",
   "execution_count": 6,
   "id": "56ec3039-3faf-4fe1-9413-b538dde3c883",
   "metadata": {},
   "outputs": [
    {
     "name": "stdout",
     "output_type": "stream",
     "text": [
      "24/04/01 16:45:05 WARN Utils: Your hostname, ahona-ThinkPad-X270-W10DG resolves to a loopback address: 127.0.1.1; using 192.168.43.6 instead (on interface wlp3s0)\n",
      "24/04/01 16:45:05 WARN Utils: Set SPARK_LOCAL_IP if you need to bind to another address\n",
      "24/04/01 16:45:06 WARN NativeCodeLoader: Unable to load native-hadoop library for your platform... using builtin-java classes where applicable\n"
     ]
    },
    {
     "name": "stderr",
     "output_type": "stream",
     "text": [
      "Setting default log level to \"WARN\".\n",
      "To adjust logging level use sc.setLogLevel(newLevel). For SparkR, use setLogLevel(newLevel).\n"
     ]
    }
   ],
   "source": [
    "spark = SparkSession.builder \\\n",
    "        .config(conf=conf) \\\n",
    "        .appName(\"local postgres testing\") \\\n",
    "        .master(\"local\") \\\n",
    "        .getOrCreate()"
   ]
  },
  {
   "cell_type": "code",
   "execution_count": 7,
   "id": "ab2eb5e6-133f-4894-8e92-3273171b2a19",
   "metadata": {},
   "outputs": [
    {
     "name": "stdout",
     "output_type": "stream",
     "text": [
      "Dockerfile\t\tload_to_postgres.ipynb\tUntitled.ipynb\n",
      "ingest_data_pyspark.py\tpostgresql-42.7.3.jar\n"
     ]
    }
   ],
   "source": [
    "!ls"
   ]
  },
  {
   "cell_type": "code",
   "execution_count": null,
   "id": "3c725ddd-cb39-411b-bb22-6259822d18b2",
   "metadata": {},
   "outputs": [],
   "source": []
  }
 ],
 "metadata": {
  "kernelspec": {
   "display_name": "Python 3 (ipykernel)",
   "language": "python",
   "name": "python3"
  },
  "language_info": {
   "codemirror_mode": {
    "name": "ipython",
    "version": 3
   },
   "file_extension": ".py",
   "mimetype": "text/x-python",
   "name": "python",
   "nbconvert_exporter": "python",
   "pygments_lexer": "ipython3",
   "version": "3.12.1"
  }
 },
 "nbformat": 4,
 "nbformat_minor": 5
}
